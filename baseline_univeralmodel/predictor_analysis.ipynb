{
 "cells": [
  {
   "cell_type": "code",
   "execution_count": 1,
   "metadata": {},
   "outputs": [
    {
     "data": {
      "application/vnd.jupyter.widget-view+json": {
       "model_id": "452b261063c74b57993649c1c27157e0",
       "version_major": 2,
       "version_minor": 0
      },
      "text/plain": [
       "interactive(children=(IntSlider(value=50, description='slice_num'), Output()), _dom_classes=('widget-interact'…"
      ]
     },
     "metadata": {},
     "output_type": "display_data"
    }
   ],
   "source": [
    "import nibabel as nib\n",
    "import matplotlib.pyplot as plt\n",
    "from ipywidgets import interact\n",
    "import numpy as np\n",
    "\n",
    "def visualize_nii(nii_file):\n",
    "    \"\"\"\n",
    "    Visualize slices of a NIfTI (.nii.gz) file in Jupyter Notebook.\n",
    "    \n",
    "    Args:\n",
    "    nii_file (str): Path to the NIfTI file.\n",
    "    \"\"\"\n",
    "    \n",
    "    # Step 1: Load the NIfTI file using nibabel\n",
    "    img = nib.load(nii_file)\n",
    "    \n",
    "    # Step 2: Get the image data as a numpy array\n",
    "    img_data = img.get_fdata()\n",
    "\n",
    "    # Step 3: Determine the number of slices along the z-axis (axial view)\n",
    "    num_slices = img_data.shape[2]\n",
    "\n",
    "    # Step 4: Define a function to plot a single slice\n",
    "    def plot_slice(slice_num):\n",
    "        plt.figure(figsize=(6, 6))\n",
    "        plt.imshow(img_data[:, :, slice_num], cmap='gray')\n",
    "        plt.title(f\"Slice {slice_num}\")\n",
    "        plt.axis('off')\n",
    "        plt.show()\n",
    "\n",
    "    # Step 5: Use interact to create a slider for browsing through slices\n",
    "    interact(plot_slice, slice_num=(0, num_slices-1))\n",
    "\n",
    "# Example Usage: visualize a .nii.gz file\n",
    "# Replace 'your_nii_file.nii.gz' with the path to your NIfTI file\n",
    "visualize_nii('/home/local/ASURITE/longchao/Desktop/project/GE_health/CLIP-Driven-Universal-Model/data_temp/single_processed_npy/result/CT_Abd_FLARE22_Tr_0001_img/CT_Abd_FLARE22_Tr_0001_img_Liver.nii.gz')\n"
   ]
  },
  {
   "cell_type": "code",
   "execution_count": 2,
   "metadata": {},
   "outputs": [
    {
     "data": {
      "application/vnd.jupyter.widget-view+json": {
       "model_id": "4b7fcc1c220e4526a1de1a55343a3de1",
       "version_major": 2,
       "version_minor": 0
      },
      "text/plain": [
       "interactive(children=(IntSlider(value=50, description='slice_num'), Output()), _dom_classes=('widget-interact'…"
      ]
     },
     "metadata": {},
     "output_type": "display_data"
    }
   ],
   "source": [
    "visualize_nii('/home/local/ASURITE/longchao/Desktop/project/GE_health/SegmentAsYouWish/data/FLARE22Train/npy/CT_Abd/CT_Abd_FLARE22_Tr_0001_img.nii.gz')\n"
   ]
  },
  {
   "cell_type": "code",
   "execution_count": 3,
   "metadata": {},
   "outputs": [
    {
     "data": {
      "application/vnd.jupyter.widget-view+json": {
       "model_id": "b1d9c5df9f14470faf406ebb857fab4a",
       "version_major": 2,
       "version_minor": 0
      },
      "text/plain": [
       "interactive(children=(IntSlider(value=54, description='slice_num', max=109), Output()), _dom_classes=('widget-…"
      ]
     },
     "metadata": {},
     "output_type": "display_data"
    }
   ],
   "source": [
    "visualize_nii(\"/home/local/ASURITE/longchao/Desktop/project/GE_health/SegmentAsYouWish/data/FLARE22Train/labels/FLARE22_Tr_0001.nii.gz\")"
   ]
  },
  {
   "cell_type": "code",
   "execution_count": 4,
   "metadata": {},
   "outputs": [
    {
     "data": {
      "application/vnd.jupyter.widget-view+json": {
       "model_id": "7ccab1bcd5b247bf85e59868df873ba0",
       "version_major": 2,
       "version_minor": 0
      },
      "text/plain": [
       "interactive(children=(IntSlider(value=54, description='slice_num', max=109), Output()), _dom_classes=('widget-…"
      ]
     },
     "metadata": {},
     "output_type": "display_data"
    }
   ],
   "source": [
    "visualize_nii(\"/home/local/ASURITE/longchao/Desktop/project/GE_health/SegmentAsYouWish/data/FLARE22Train/labels/FLARE22_Tr_0001.nii.gz\")"
   ]
  },
  {
   "cell_type": "code",
   "execution_count": 5,
   "metadata": {},
   "outputs": [
    {
     "data": {
      "text/plain": [
       "array([0., 1.])"
      ]
     },
     "execution_count": 5,
     "metadata": {},
     "output_type": "execute_result"
    }
   ],
   "source": [
    "\n",
    "\n",
    "def analyze_nii_values(nii_file_path):\n",
    "    \"\"\"\n",
    "    Load a .nii.gz file and analyze the unique values (labels) in the image.\n",
    "    \n",
    "    Args:\n",
    "    nii_file_path (str): Path to the NIfTI file.\n",
    "    \n",
    "    Returns:\n",
    "    List of unique values in the image (which could represent different masks or regions).\n",
    "    \"\"\"\n",
    "    \n",
    "    # Load the NIfTI file using nibabel\n",
    "    img = nib.load(nii_file_path)\n",
    "    \n",
    "    # Convert the image data to a numpy array\n",
    "    img_data = img.get_fdata()\n",
    "    \n",
    "    # Find the unique values in the image\n",
    "    unique_values = np.unique(img_data)\n",
    "    \n",
    "    return unique_values\n",
    "\n",
    "\n",
    "path = \"/home/local/ASURITE/longchao/Desktop/project/GE_health/CLIP-Driven-Universal-Model/data_temp/simulate/npy/prediction/CT_Abd_FLARE22_Tr_0001_img/CT_Abd_FLARE22_Tr_0001_img_Left Kidney.nii.gz\"\n",
    "\n",
    "values = analyze_nii_values(path)\n",
    "values\n",
    "\n",
    "# the values are all (zero, one)"
   ]
  },
  {
   "cell_type": "code",
   "execution_count": 6,
   "metadata": {},
   "outputs": [],
   "source": [
    "# value = (label, gt_nii.gz, pred_nii.gz)\n",
    "gt_path = \"/home/local/ASURITE/longchao/Desktop/project/GE_health/CLIP-Driven-Universal-Model/data_temp/simulate/npy/CT_Abd/CT_Abd_FLARE22_Tr_0001_gt.nii.gz\"\n",
    "path_liver = \"/home/local/ASURITE/longchao/Desktop/project/GE_health/CLIP-Driven-Universal-Model/data_temp/simulate/npy/prediction/CT_Abd_FLARE22_Tr_0001_img/CT_Abd_FLARE22_Tr_0001_img_Liver.nii.gz\"\n",
    "\n",
    "# target: liver: 1\n",
    "\n",
    "\n",
    "\n",
    "\n",
    "\n",
    "\n"
   ]
  },
  {
   "cell_type": "code",
   "execution_count": 10,
   "metadata": {},
   "outputs": [
    {
     "name": "stdout",
     "output_type": "stream",
     "text": [
      "dice_scores_mean:\n",
      "0.6546611706005276\n",
      "nsd_scores_mean:\n",
      "0.0\n"
     ]
    }
   ],
   "source": [
    "import nibabel as nib\n",
    "import numpy as np\n",
    "from scipy.spatial.distance import directed_hausdorff\n",
    "from medpy.metric.binary import dc\n",
    "import matplotlib.pyplot as plt\n",
    "\n",
    "def load_nifti_file(file_path):\n",
    "    \"\"\"\n",
    "    Load a NIfTI file and return the image data as a numpy array.\n",
    "    \"\"\"\n",
    "    img = nib.load(file_path)\n",
    "    img_data = img.get_fdata()\n",
    "    return img_data\n",
    "\n",
    "def calculate_dice(pred_slice, gt_slice, label_value):\n",
    "    \"\"\"\n",
    "    Calculate the Dice coefficient between the predicted liver segmentation and ground truth for a single slice.\n",
    "    \n",
    "    Args:\n",
    "    pred_slice: Predicted binary mask for the slice (0 for background, 1 for liver).\n",
    "    gt_slice: Ground truth mask slice, where the liver is represented by label_value.\n",
    "    label_value: The label value of liver in the ground truth.\n",
    "    \n",
    "    Returns:\n",
    "    Dice coefficient for the slice.\n",
    "    \"\"\"\n",
    "    # Binarize the ground truth slice to isolate the liver (label_value)\n",
    "    gt_liver = (gt_slice == label_value).astype(np.uint8)\n",
    "    \n",
    "    # Dice coefficient using MedPy\n",
    "    dice_score = dc(pred_slice, gt_liver)\n",
    "    \n",
    "    return dice_score\n",
    "\n",
    "def calculate_nsd(pred_slice, gt_slice, label_value, tolerance=1.0):\n",
    "    \"\"\"\n",
    "    Calculate the Normalized Surface Distance (NSD) between the predicted liver segmentation and ground truth for a single slice.\n",
    "    \n",
    "    Args:\n",
    "    pred_slice: Predicted binary mask for the slice (0 for background, 1 for liver).\n",
    "    gt_slice: Ground truth mask slice, where the liver is represented by label_value.\n",
    "    label_value: The label value of liver in the ground truth.\n",
    "    tolerance: Distance tolerance for NSD calculation (in voxels).\n",
    "    \n",
    "    Returns:\n",
    "    NSD score for the slice.\n",
    "    \"\"\"\n",
    "    # Binarize the ground truth mask to isolate the liver (label_value)\n",
    "    gt_liver = (gt_slice == label_value).astype(np.uint8)\n",
    "    \n",
    "    # Extract the surfaces (edges) of both ground truth and predicted liver\n",
    "    pred_surface = np.argwhere(np.gradient(pred_slice)[0] != 0)\n",
    "    gt_surface = np.argwhere(np.gradient(gt_liver)[0] != 0)\n",
    "    \n",
    "    if len(gt_surface) == 0 or len(pred_surface) == 0:\n",
    "        return 0  # Avoid division by zero or empty surface case\n",
    "    \n",
    "    # Calculate the Hausdorff distance between surfaces (directed Hausdorff distance)\n",
    "    hausdorff_distance = max(directed_hausdorff(pred_surface, gt_surface)[0], \n",
    "                             directed_hausdorff(gt_surface, pred_surface)[0])\n",
    "    \n",
    "    # NSD calculation: number of points within the tolerance distance over total points\n",
    "    nsd = np.sum(hausdorff_distance <= tolerance) / len(gt_surface)\n",
    "    \n",
    "    return nsd\n",
    "\n",
    "def evaluate_slices(gt_data, pred_data, label_value=2, tolerance=1.0):\n",
    "    \"\"\"\n",
    "    Evaluate Dice and NSD slice-by-slice for liver segmentation.\n",
    "    \n",
    "    Args:\n",
    "    gt_data: Ground truth 3D volume with multiple labels.\n",
    "    pred_data: Predicted 3D volume with binary mask (0 for background, 1 for liver).\n",
    "    label_value: The label value of liver in the ground truth.\n",
    "    tolerance: Distance tolerance for NSD calculation (in voxels).\n",
    "    \n",
    "    Returns:\n",
    "    Dice and NSD scores for each slice.\n",
    "    \"\"\"\n",
    "    # Get the number of slices in the z-dimension (axial slices)\n",
    "    num_slices = gt_data.shape[2]\n",
    "    \n",
    "    dice_scores = []\n",
    "    nsd_scores = []\n",
    "    \n",
    "    for i in range(num_slices):\n",
    "        gt_slice = gt_data[:, :, i]  # Extract a 2D slice from the ground truth\n",
    "        pred_slice = pred_data[:, :, i]  # Extract a 2D slice from the prediction\n",
    "        \n",
    "        # Calculate Dice and NSD for this slice\n",
    "        dice = calculate_dice(pred_slice, gt_slice, label_value)\n",
    "        nsd = calculate_nsd(pred_slice, gt_slice, label_value, tolerance)\n",
    "        \n",
    "        dice_scores.append(dice)\n",
    "        nsd_scores.append(nsd)\n",
    "    \n",
    "    return dice_scores, nsd_scores\n",
    "\n",
    "\n",
    "\n",
    "\n",
    "# Get reeady for 3: [1] gt_path, [2] path_liver, [3] label_value: 1 (liver) for the gt data {since gt data might contains multiple labels}\n",
    "# check at> https://docs.google.com/document/d/1suXpyRQtxZcl0ovdVzQeHi4T_d1UmEU0brOnmMnyai0/edit\n",
    "\n",
    "# File paths\n",
    "gt_path = \"/home/local/ASURITE/longchao/Desktop/project/GE_health/CLIP-Driven-Universal-Model/data_temp/simulate/npy/CT_Abd/CT_Abd_FLARE22_Tr_0001_gt.nii.gz\"\n",
    "path_liver = \"/home/local/ASURITE/longchao/Desktop/project/GE_health/CLIP-Driven-Universal-Model/data_temp/simulate/npy/prediction/CT_Abd_FLARE22_Tr_0001_img/CT_Abd_FLARE22_Tr_0001_img_Liver.nii.gz\"\n",
    "\n",
    "# Load the ground truth and predicted liver masks\n",
    "gt_data = load_nifti_file(gt_path)\n",
    "pred_data = load_nifti_file(path_liver)\n",
    "\n",
    "# Perform slice-level evaluation\n",
    "dice_scores, nsd_scores = evaluate_slices(gt_data, pred_data, label_value=1, tolerance=1.0)\n",
    "\n",
    "print(\"dice_scores_mean:\")\n",
    "print(np.mean(dice_scores))\n",
    "\n",
    "\n",
    "print(\"nsd_scores_mean:\")\n",
    "print(np.mean(nsd_scores))\n",
    "\n",
    "\n",
    "# # Print results for all slices\n",
    "# for i, (dice, nsd) in enumerate(zip(dice_scores, nsd_scores)):\n",
    "#     print(f\"Slice {i}: Dice = {dice:.4f}, NSD = {nsd:.4f}\")\n",
    "\n",
    "# # Optional: plot the Dice and NSD values for each slice\n",
    "# plt.figure(figsize=(10, 5))\n",
    "# plt.plot(dice_scores, label='Dice Coefficient')\n",
    "# plt.plot(nsd_scores, label='NSD')\n",
    "# plt.xlabel('Slice Index')\n",
    "# plt.ylabel('Score')\n",
    "# plt.title('Slice-by-Slice Evaluation of Liver Segmentation')\n",
    "# plt.legend()\n",
    "# plt.show()\n"
   ]
  },
  {
   "cell_type": "code",
   "execution_count": null,
   "metadata": {},
   "outputs": [],
   "source": []
  }
 ],
 "metadata": {
  "kernelspec": {
   "display_name": "langseg",
   "language": "python",
   "name": "python3"
  },
  "language_info": {
   "codemirror_mode": {
    "name": "ipython",
    "version": 3
   },
   "file_extension": ".py",
   "mimetype": "text/x-python",
   "name": "python",
   "nbconvert_exporter": "python",
   "pygments_lexer": "ipython3",
   "version": "3.8.19"
  },
  "orig_nbformat": 4,
  "vscode": {
   "interpreter": {
    "hash": "4854efcb2d9245c65946c9aa84c4d95a73bc8d4467b7e26380e6183927bd8d2a"
   }
  }
 },
 "nbformat": 4,
 "nbformat_minor": 2
}
