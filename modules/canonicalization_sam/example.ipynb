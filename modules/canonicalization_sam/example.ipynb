{
 "cells": [
  {
   "cell_type": "code",
   "execution_count": 2,
   "id": "322d6430-8a42-47bb-8c7c-45d03697ec18",
   "metadata": {},
   "outputs": [],
   "source": [
    "# Need to install escnn first\n",
    "# !pip install escnn\n",
    "# !pip install omegaconf"
   ]
  },
  {
   "cell_type": "code",
   "execution_count": 1,
   "id": "ff89744b-ee9f-4bce-9a81-8da74f41ba94",
   "metadata": {
    "tags": []
   },
   "outputs": [],
   "source": [
    "# import os\n",
    "# # Specify the GPU you want to use, for example, GPU 0\n",
    "# os.environ[\"CUDA_VISIBLE_DEVICES\"] = \"4\"\n",
    "from typing import Tuple\n",
    "import escnn\n",
    "import torch\n",
    "import torchvision\n",
    "from rot_mnist import RotatedMNIST\n",
    "import matplotlib.pyplot as plt\n",
    "import numpy as np\n",
    "import copy\n",
    "import kornia as K\n",
    "from equiv_networks import ESCNNEquivariantNetwork\n",
    "from canonicalization_discrete_group import DiscreteGroupImageCanonicalization\n",
    "from can_utils import train_classifer, eval_acc\n",
    "device = torch.device(\"cuda\" if torch.cuda.is_available() else \"cpu\")"
   ]
  },
  {
   "cell_type": "markdown",
   "id": "d6c174a9-2445-4415-99b4-7c298a923cbc",
   "metadata": {},
   "source": [
    "## 1. Create a CNN prediction network and train it on the MNIST dataset"
   ]
  },
  {
   "cell_type": "code",
   "execution_count": 3,
   "id": "a149b573-a827-4428-9e2f-6a9697199709",
   "metadata": {
    "tags": []
   },
   "outputs": [
    {
     "name": "stdout",
     "output_type": "stream",
     "text": [
      "number of paramters: 120138\n",
      "Epoch 1 | Train Accuracy: 0.70757 | Valid Accuracy: 0.90817\n"
     ]
    }
   ],
   "source": [
    "class CNN(torch.nn.Module):\n",
    "    def __init__(self, in_channels, out_channels, kernel_size, hidden_dim):\n",
    "        super().__init__()\n",
    "        self.model = torch.nn.Sequential(\n",
    "            torch.nn.Conv2d(in_channels, hidden_dim, kernel_size),\n",
    "            torch.nn.ReLU(),\n",
    "            torch.nn.Conv2d(hidden_dim, hidden_dim, kernel_size),\n",
    "            torch.nn.ReLU(),\n",
    "            torch.nn.Conv2d(hidden_dim, out_channels, kernel_size),\n",
    "        )\n",
    "\n",
    "    def forward(self, x):\n",
    "        out = self.model(x)\n",
    "        # Apply average pooling over spatial dimensions.\n",
    "        return out.mean((2,3))\n",
    "\n",
    "prediction_network = CNN(in_channels = 1, out_channels = 10, kernel_size = 5, hidden_dim = 64).to(device)\n",
    "\n",
    "# Define transformations\n",
    "transform = torchvision.transforms.Compose([\n",
    "    torchvision.transforms.ToTensor(),\n",
    "    torchvision.transforms.Normalize((0.1307,), (0.3081,))\n",
    "])\n",
    "\n",
    "# Load the MNIST dataset\n",
    "mnist_train_dataset = torchvision.datasets.MNIST(root='./data', train=True, transform=transform, download=True)\n",
    "mnist_train_loader = torch.utils.data.DataLoader(dataset=mnist_train_dataset, batch_size=512, shuffle=True)\n",
    "mnist_valid_dataset = torchvision.datasets.MNIST(root='./data', train=True, transform=transform, download=True)\n",
    "mnist_valid_loader = torch.utils.data.DataLoader(dataset=mnist_valid_dataset, batch_size=512, shuffle=False)\n",
    "\n",
    "optimizer = torch.optim.Adam(prediction_network.parameters(), 0.001) \n",
    "train_classifer(prediction_network, mnist_train_loader, mnist_valid_loader, num_epoch = 1, optimizer = optimizer)\n",
    "# torch.save(prediction_network, \"prediction_network.pth\")\n",
    "# prediction_network = torch.load(\"prediction_network.pth\")"
   ]
  },
  {
   "cell_type": "markdown",
   "id": "a2037bdb-8665-48c8-a117-0945ceb96d0d",
   "metadata": {},
   "source": [
    "## 2. Achieve Equivariance with Canonicalization "
   ]
  },
  {
   "cell_type": "markdown",
   "id": "681e592f-144d-4854-a6ea-e8d73392eb93",
   "metadata": {},
   "source": [
    "### 2.1 Canonicalization Network: $\\phi(x) = c(x)\\;f(c^{-1}(x)\\;x)$ where $f$ is the prediction network and $c$ is the equivariant network. "
   ]
  },
  {
   "cell_type": "code",
   "execution_count": 4,
   "id": "876a5f9c-1a86-400e-8854-733c6fa38632",
   "metadata": {
    "tags": []
   },
   "outputs": [],
   "source": [
    "# design canonicalization hyperparams class\n",
    "class CanonicalizationHyperparams:\n",
    "    def __init__(self):\n",
    "        self.network_type = \"escnn\" # group equivariant canonicalization\n",
    "        self.resize_shape = 28 # resize shape for the canonicalization network\n",
    "        self.network_hyperparams = {\n",
    "            \"kernel_size\": 5, # Kernel size for the canonization network\n",
    "            \"hidden_dim\": 4,\n",
    "            \"out_channels\": 4, # Number of output channels for the canonization network\n",
    "            \"num_layers\": 5, # Number of layers in the canonization network\n",
    "            \"group_type\": \"roto-reflection\",#\"roto-reflection\", #rotation\", # Type of group for the canonization network\n",
    "            \"group_order\": 4, # Number of rotations for the canonization network \n",
    "            # \"num_rotations\": 4\n",
    "        }\n",
    "        self.beta = 1.0 \n",
    "        self.input_crop_ratio = 1.0\n",
    "        self.gradient_trick = \"gumbel_softmax\" #\"straight_through\"\n",
    "        \n",
    "canonicalization_hyperparams = CanonicalizationHyperparams()\n",
    "image_shape = (1, 28, 28)\n",
    "\n",
    "# Equivariant Network c(x)\n",
    "canonicalization_network = ESCNNEquivariantNetwork(inp_channels = image_shape[0], **canonicalization_hyperparams.network_hyperparams).to(device)\n",
    "canonicalizer = DiscreteGroupImageCanonicalization(canonicalization_network, canonicalization_hyperparams, image_shape).to(device)"
   ]
  },
  {
   "cell_type": "code",
   "execution_count": 7,
   "id": "403810ae-29eb-457c-9590-17c13bec510a",
   "metadata": {
    "tags": []
   },
   "outputs": [
    {
     "data": {
      "text/plain": [
       "'medsam_text_prompt_loss_time_canTrue.png'"
      ]
     },
     "execution_count": 7,
     "metadata": {},
     "output_type": "execute_result"
    }
   ],
   "source": [
    "use_canonicalization = True\n",
    "f\"medsam_text_prompt_loss_time_can{use_canonicalization}.png\""
   ]
  },
  {
   "cell_type": "code",
   "execution_count": 12,
   "id": "e44b86e0-438b-4e3d-88ca-127e93a7a23f",
   "metadata": {
    "tags": []
   },
   "outputs": [
    {
     "data": {
      "text/plain": [
       "0.0012379400392853823"
      ]
     },
     "execution_count": 12,
     "metadata": {},
     "output_type": "execute_result"
    }
   ],
   "source": [
    "0.8**30"
   ]
  },
  {
   "cell_type": "markdown",
   "id": "c698838d-b326-4235-80f8-9967dd2eeb35",
   "metadata": {},
   "source": [
    "### 2.2 Train the canonicalization network on the ***rotation*** MNIST datasets"
   ]
  },
  {
   "cell_type": "code",
   "execution_count": 5,
   "id": "bdcd9715-dbac-46fa-b889-9b742cc61bea",
   "metadata": {
    "tags": []
   },
   "outputs": [
    {
     "name": "stdout",
     "output_type": "stream",
     "text": [
      "Accuracies of the Prediction Network on the Original and Rotated MNIST Test Sets\n"
     ]
    },
    {
     "data": {
      "text/plain": [
       "(0.90817, 0.23674)"
      ]
     },
     "execution_count": 5,
     "metadata": {},
     "output_type": "execute_result"
    }
   ],
   "source": [
    "# Load the Rotation MNIST dataset\n",
    "rot_mnist_train_dataset = RotatedMNIST(root=\"./data\", partition=\"train\", augment=\"None\")\n",
    "rot_mnist_train_loader = torch.utils.data.DataLoader(rot_mnist_train_dataset, batch_size=512, shuffle=True, num_workers=4)\n",
    "rot_mnist_valid_dataset = RotatedMNIST(root=\"./data\", partition=\"valid\", augment=\"None\")\n",
    "rot_mnist_valid_loader = torch.utils.data.DataLoader(rot_mnist_valid_dataset, batch_size=512, shuffle=False, num_workers=4)\n",
    "\n",
    "# the prediction network perform poorly on the rotated mnist test set.\n",
    "print(\"Accuracies of the Prediction Network on the Original and Rotated MNIST Test Sets\")\n",
    "eval_acc(prediction_network, mnist_valid_loader), eval_acc(prediction_network, rot_mnist_valid_loader)"
   ]
  },
  {
   "cell_type": "code",
   "execution_count": 6,
   "id": "60cd6677-8a6c-4fcb-966d-6e602d2333af",
   "metadata": {
    "tags": []
   },
   "outputs": [
    {
     "name": "stdout",
     "output_type": "stream",
     "text": [
      "Epoch 1 | Train Accuracy: 0.473 | Train Loss: 3.363 \n",
      "Epoch 11 | Train Accuracy: 0.849 | Train Loss: 1.707 \n"
     ]
    },
    {
     "ename": "KeyboardInterrupt",
     "evalue": "",
     "output_type": "error",
     "traceback": [
      "\u001b[0;31m---------------------------------------------------------------------------\u001b[0m",
      "\u001b[0;31mKeyboardInterrupt\u001b[0m                         Traceback (most recent call last)",
      "Cell \u001b[0;32mIn[6], line 37\u001b[0m\n\u001b[1;32m     35\u001b[0m canonicalized_x \u001b[38;5;241m=\u001b[39m canonicalizer(x)\n\u001b[1;32m     36\u001b[0m pred \u001b[38;5;241m=\u001b[39m prediction_network(canonicalized_x)\n\u001b[0;32m---> 37\u001b[0m loss \u001b[38;5;241m=\u001b[39m \u001b[43mloss_fun\u001b[49m\u001b[43m(\u001b[49m\u001b[43mpred\u001b[49m\u001b[43m,\u001b[49m\u001b[43m \u001b[49m\u001b[43my\u001b[49m\u001b[43m)\u001b[49m \n\u001b[1;32m     38\u001b[0m loss \u001b[38;5;241m+\u001b[39m\u001b[38;5;241m=\u001b[39m canonicalizer\u001b[38;5;241m.\u001b[39mget_prior_regularization_loss()\n\u001b[1;32m     39\u001b[0m train_loss\u001b[38;5;241m.\u001b[39mappend(loss\u001b[38;5;241m.\u001b[39mitem())\n",
      "File \u001b[0;32m~/anaconda3/envs/medsam/lib/python3.10/site-packages/torch/nn/modules/module.py:1532\u001b[0m, in \u001b[0;36mModule._wrapped_call_impl\u001b[0;34m(self, *args, **kwargs)\u001b[0m\n\u001b[1;32m   1530\u001b[0m     \u001b[38;5;28;01mreturn\u001b[39;00m \u001b[38;5;28mself\u001b[39m\u001b[38;5;241m.\u001b[39m_compiled_call_impl(\u001b[38;5;241m*\u001b[39margs, \u001b[38;5;241m*\u001b[39m\u001b[38;5;241m*\u001b[39mkwargs)  \u001b[38;5;66;03m# type: ignore[misc]\u001b[39;00m\n\u001b[1;32m   1531\u001b[0m \u001b[38;5;28;01melse\u001b[39;00m:\n\u001b[0;32m-> 1532\u001b[0m     \u001b[38;5;28;01mreturn\u001b[39;00m \u001b[38;5;28;43mself\u001b[39;49m\u001b[38;5;241;43m.\u001b[39;49m\u001b[43m_call_impl\u001b[49m\u001b[43m(\u001b[49m\u001b[38;5;241;43m*\u001b[39;49m\u001b[43margs\u001b[49m\u001b[43m,\u001b[49m\u001b[43m \u001b[49m\u001b[38;5;241;43m*\u001b[39;49m\u001b[38;5;241;43m*\u001b[39;49m\u001b[43mkwargs\u001b[49m\u001b[43m)\u001b[49m\n",
      "File \u001b[0;32m~/anaconda3/envs/medsam/lib/python3.10/site-packages/torch/nn/modules/module.py:1541\u001b[0m, in \u001b[0;36mModule._call_impl\u001b[0;34m(self, *args, **kwargs)\u001b[0m\n\u001b[1;32m   1536\u001b[0m \u001b[38;5;66;03m# If we don't have any hooks, we want to skip the rest of the logic in\u001b[39;00m\n\u001b[1;32m   1537\u001b[0m \u001b[38;5;66;03m# this function, and just call forward.\u001b[39;00m\n\u001b[1;32m   1538\u001b[0m \u001b[38;5;28;01mif\u001b[39;00m \u001b[38;5;129;01mnot\u001b[39;00m (\u001b[38;5;28mself\u001b[39m\u001b[38;5;241m.\u001b[39m_backward_hooks \u001b[38;5;129;01mor\u001b[39;00m \u001b[38;5;28mself\u001b[39m\u001b[38;5;241m.\u001b[39m_backward_pre_hooks \u001b[38;5;129;01mor\u001b[39;00m \u001b[38;5;28mself\u001b[39m\u001b[38;5;241m.\u001b[39m_forward_hooks \u001b[38;5;129;01mor\u001b[39;00m \u001b[38;5;28mself\u001b[39m\u001b[38;5;241m.\u001b[39m_forward_pre_hooks\n\u001b[1;32m   1539\u001b[0m         \u001b[38;5;129;01mor\u001b[39;00m _global_backward_pre_hooks \u001b[38;5;129;01mor\u001b[39;00m _global_backward_hooks\n\u001b[1;32m   1540\u001b[0m         \u001b[38;5;129;01mor\u001b[39;00m _global_forward_hooks \u001b[38;5;129;01mor\u001b[39;00m _global_forward_pre_hooks):\n\u001b[0;32m-> 1541\u001b[0m     \u001b[38;5;28;01mreturn\u001b[39;00m \u001b[43mforward_call\u001b[49m\u001b[43m(\u001b[49m\u001b[38;5;241;43m*\u001b[39;49m\u001b[43margs\u001b[49m\u001b[43m,\u001b[49m\u001b[43m \u001b[49m\u001b[38;5;241;43m*\u001b[39;49m\u001b[38;5;241;43m*\u001b[39;49m\u001b[43mkwargs\u001b[49m\u001b[43m)\u001b[49m\n\u001b[1;32m   1543\u001b[0m \u001b[38;5;28;01mtry\u001b[39;00m:\n\u001b[1;32m   1544\u001b[0m     result \u001b[38;5;241m=\u001b[39m \u001b[38;5;28;01mNone\u001b[39;00m\n",
      "File \u001b[0;32m~/anaconda3/envs/medsam/lib/python3.10/site-packages/torch/nn/modules/loss.py:1185\u001b[0m, in \u001b[0;36mCrossEntropyLoss.forward\u001b[0;34m(self, input, target)\u001b[0m\n\u001b[1;32m   1184\u001b[0m \u001b[38;5;28;01mdef\u001b[39;00m \u001b[38;5;21mforward\u001b[39m(\u001b[38;5;28mself\u001b[39m, \u001b[38;5;28minput\u001b[39m: Tensor, target: Tensor) \u001b[38;5;241m-\u001b[39m\u001b[38;5;241m>\u001b[39m Tensor:\n\u001b[0;32m-> 1185\u001b[0m     \u001b[38;5;28;01mreturn\u001b[39;00m \u001b[43mF\u001b[49m\u001b[38;5;241;43m.\u001b[39;49m\u001b[43mcross_entropy\u001b[49m\u001b[43m(\u001b[49m\u001b[38;5;28;43minput\u001b[39;49m\u001b[43m,\u001b[49m\u001b[43m \u001b[49m\u001b[43mtarget\u001b[49m\u001b[43m,\u001b[49m\u001b[43m \u001b[49m\u001b[43mweight\u001b[49m\u001b[38;5;241;43m=\u001b[39;49m\u001b[38;5;28;43mself\u001b[39;49m\u001b[38;5;241;43m.\u001b[39;49m\u001b[43mweight\u001b[49m\u001b[43m,\u001b[49m\n\u001b[1;32m   1186\u001b[0m \u001b[43m                           \u001b[49m\u001b[43mignore_index\u001b[49m\u001b[38;5;241;43m=\u001b[39;49m\u001b[38;5;28;43mself\u001b[39;49m\u001b[38;5;241;43m.\u001b[39;49m\u001b[43mignore_index\u001b[49m\u001b[43m,\u001b[49m\u001b[43m \u001b[49m\u001b[43mreduction\u001b[49m\u001b[38;5;241;43m=\u001b[39;49m\u001b[38;5;28;43mself\u001b[39;49m\u001b[38;5;241;43m.\u001b[39;49m\u001b[43mreduction\u001b[49m\u001b[43m,\u001b[49m\n\u001b[1;32m   1187\u001b[0m \u001b[43m                           \u001b[49m\u001b[43mlabel_smoothing\u001b[49m\u001b[38;5;241;43m=\u001b[39;49m\u001b[38;5;28;43mself\u001b[39;49m\u001b[38;5;241;43m.\u001b[39;49m\u001b[43mlabel_smoothing\u001b[49m\u001b[43m)\u001b[49m\n",
      "File \u001b[0;32m~/anaconda3/envs/medsam/lib/python3.10/site-packages/torch/nn/functional.py:3086\u001b[0m, in \u001b[0;36mcross_entropy\u001b[0;34m(input, target, weight, size_average, ignore_index, reduce, reduction, label_smoothing)\u001b[0m\n\u001b[1;32m   3084\u001b[0m \u001b[38;5;28;01mif\u001b[39;00m size_average \u001b[38;5;129;01mis\u001b[39;00m \u001b[38;5;129;01mnot\u001b[39;00m \u001b[38;5;28;01mNone\u001b[39;00m \u001b[38;5;129;01mor\u001b[39;00m reduce \u001b[38;5;129;01mis\u001b[39;00m \u001b[38;5;129;01mnot\u001b[39;00m \u001b[38;5;28;01mNone\u001b[39;00m:\n\u001b[1;32m   3085\u001b[0m     reduction \u001b[38;5;241m=\u001b[39m _Reduction\u001b[38;5;241m.\u001b[39mlegacy_get_string(size_average, reduce)\n\u001b[0;32m-> 3086\u001b[0m \u001b[38;5;28;01mreturn\u001b[39;00m \u001b[43mtorch\u001b[49m\u001b[38;5;241;43m.\u001b[39;49m\u001b[43m_C\u001b[49m\u001b[38;5;241;43m.\u001b[39;49m\u001b[43m_nn\u001b[49m\u001b[38;5;241;43m.\u001b[39;49m\u001b[43mcross_entropy_loss\u001b[49m\u001b[43m(\u001b[49m\u001b[38;5;28;43minput\u001b[39;49m\u001b[43m,\u001b[49m\u001b[43m \u001b[49m\u001b[43mtarget\u001b[49m\u001b[43m,\u001b[49m\u001b[43m \u001b[49m\u001b[43mweight\u001b[49m\u001b[43m,\u001b[49m\u001b[43m \u001b[49m\u001b[43m_Reduction\u001b[49m\u001b[38;5;241;43m.\u001b[39;49m\u001b[43mget_enum\u001b[49m\u001b[43m(\u001b[49m\u001b[43mreduction\u001b[49m\u001b[43m)\u001b[49m\u001b[43m,\u001b[49m\u001b[43m \u001b[49m\u001b[43mignore_index\u001b[49m\u001b[43m,\u001b[49m\u001b[43m \u001b[49m\u001b[43mlabel_smoothing\u001b[49m\u001b[43m)\u001b[49m\n",
      "\u001b[0;31mKeyboardInterrupt\u001b[0m: "
     ]
    }
   ],
   "source": [
    "# train canonicalization_network and prediction_network together 0.0001 0.01\n",
    "# the goal is to make the canonicalization network to produce canonical forms that align with the prediction network.\n",
    "\n",
    "canonicalization_network = ESCNNEquivariantNetwork(inp_channels = image_shape[0], **canonicalization_hyperparams.network_hyperparams).to(device)\n",
    "canonicalizer = DiscreteGroupImageCanonicalization(canonicalization_network, canonicalization_hyperparams, image_shape).to(device)\n",
    "# combine and train together \n",
    "can_optimizer = torch.optim.AdamW([\n",
    "        {'params': prediction_network.parameters(), 'lr': 1e-3},\n",
    "        {'params': canonicalizer.parameters(), 'lr': 1e-3},\n",
    "    ])\n",
    "\n",
    "best_valid_acc = 0\n",
    "loss_fun = torch.nn.CrossEntropyLoss()\n",
    "scheduler = torch.optim.lr_scheduler.StepLR(can_optimizer, step_size=1, gamma=0.95)\n",
    "for epoch in range(100):\n",
    "    train_loss, train_acc, count = [], 0, 0\n",
    "    for x, y in rot_mnist_train_loader:\n",
    "        can_optimizer.zero_grad()\n",
    "        x = x.to(device)\n",
    "        y = y.to(device)\n",
    "        canonicalized_x = canonicalizer(x)\n",
    "        pred = prediction_network(canonicalized_x)\n",
    "        loss = loss_fun(pred, y) \n",
    "        loss += canonicalizer.get_prior_regularization_loss()\n",
    "        train_loss.append(loss.item())\n",
    "        train_acc += (y == pred.argmax(dim=-1)).sum().cpu().data.numpy()\n",
    "        count += y.shape[0]\n",
    "        loss.backward()\n",
    "        can_optimizer.step()\n",
    "    \n",
    "    for x, y in mnist_train_loader:\n",
    "        can_optimizer.zero_grad()\n",
    "        x = x.to(device)\n",
    "        y = y.to(device)\n",
    "        canonicalized_x = canonicalizer(x)\n",
    "        pred = prediction_network(canonicalized_x)\n",
    "        loss = loss_fun(pred, y) \n",
    "        loss += canonicalizer.get_prior_regularization_loss()\n",
    "        train_loss.append(loss.item())\n",
    "        train_acc += (y == pred.argmax(dim=-1)).sum().cpu().data.numpy()\n",
    "        count += y.shape[0]\n",
    "        loss.backward()\n",
    "        can_optimizer.step()\n",
    "\n",
    "    train_acc = train_acc/count\n",
    "    scheduler.step()\n",
    "    if epoch % 10 == 0:\n",
    "        print(\"Epoch {} | Train Accuracy: {:0.3f} | Train Loss: {:0.3f} \".format(epoch+1, train_acc, np.mean(train_loss)))\n",
    "        \n",
    "print(\"Accuracy of Prediction Network alone on Rotated Test Set: {}\".format(eval_acc(prediction_network, rot_mnist_valid_loader)))\n",
    "print(\"Accuracy of Canonicalizer + Prediction Network on Rotated Test Set: {}\".format(eval_acc(torch.nn.Sequential(canonicalizer, prediction_network), rot_mnist_valid_loader)))      "
   ]
  },
  {
   "cell_type": "markdown",
   "id": "1eb082de-5340-4615-905b-a3983e3fa0f8",
   "metadata": {},
   "source": [
    "## Visualization"
   ]
  },
  {
   "cell_type": "code",
   "execution_count": 10,
   "id": "3a1d94d9-144d-4344-8dd5-41f99cd79136",
   "metadata": {
    "tags": []
   },
   "outputs": [],
   "source": [
    "test_x, test_y = next(iter(rot_mnist_train_loader))"
   ]
  },
  {
   "cell_type": "code",
   "execution_count": 13,
   "id": "942cad81-1e80-45c3-9ff4-e9cab6c82456",
   "metadata": {
    "tags": []
   },
   "outputs": [
    {
     "data": {
      "image/png": "[encoded data removed]",
      "text/plain": [
       "<Figure size 800x400 with 2 Axes>"
      ]
     },
     "metadata": {},
     "output_type": "display_data"
    }
   ],
   "source": [
    "idx = 19\n",
    "plt.subplots(nrows=1, ncols=2, figsize=(8, 4))\n",
    "plt.subplot(1, 2, 1)\n",
    "plt.imshow(test_x[idx, 0])\n",
    "plt.title(\"Rotated \" + str(test_y[idx].numpy()), size = 15)\n",
    "plt.axis(\"off\")\n",
    "plt.subplot(1, 2, 2)\n",
    "plt.imshow(canonicalizer(test_x.to(device)).cpu().detach()[idx, 0])\n",
    "plt.axis(\"off\")\n",
    "plt.title(\"Canonicalized \" + str(test_y[idx].numpy()), size = 15)\n",
    "plt.show()"
   ]
  },
  {
   "cell_type": "markdown",
   "id": "325a6c64",
   "metadata": {},
   "source": [
    "# Test from preloaded Model"
   ]
  },
  {
   "cell_type": "code",
   "execution_count": 15,
   "id": "4db3aefd",
   "metadata": {},
   "outputs": [],
   "source": [
    "# Save model\n",
    "example_path = \"/home/local/ASURITE/longchao/Desktop/project/GE_health/SegmentAsYouWish/canonicalization/example/\"\n",
    "def save_model():\n",
    "    torch.save(prediction_network.state_dict(), example_path+'prediction_network.pth')\n",
    "    torch.save(canonicalizer.state_dict(), example_path+'canonicalizer.pth')"
   ]
  },
  {
   "cell_type": "code",
   "execution_count": 16,
   "id": "c4ef97e0-ea20-408f-9779-3b2bb7f86347",
   "metadata": {},
   "outputs": [],
   "source": [
    "# Load test code: \n",
    "def load_model():\n",
    "    prediction_network.load_state_dict(torch.load(example_path+'prediction_network.pth'))\n",
    "    canonicalizer.load_state_dict(torch.load(example_path+'canonicalizer.pth'))\n",
    "\n",
    "    # Ensure the models are in eval mode if evaluating\n",
    "    prediction_network.eval()\n",
    "    canonicalizer.eval()"
   ]
  },
  {
   "cell_type": "code",
   "execution_count": 18,
   "id": "c23ceb2d",
   "metadata": {},
   "outputs": [
    {
     "data": {
      "image/png": "[encoded data removed]",
      "text/plain": [
       "<Figure size 800x400 with 2 Axes>"
      ]
     },
     "metadata": {},
     "output_type": "display_data"
    }
   ],
   "source": [
    "test_x, test_y = next(iter(rot_mnist_train_loader))\n",
    "idx = 20\n",
    "plt.subplots(nrows=1, ncols=2, figsize=(8, 4))\n",
    "plt.subplot(1, 2, 1)\n",
    "plt.imshow(test_x[idx, 0])\n",
    "plt.title(\"Rotated \" + str(test_y[idx].numpy()), size = 15)\n",
    "plt.axis(\"off\")\n",
    "plt.subplot(1, 2, 2)\n",
    "plt.imshow(canonicalizer(test_x.to(device)).cpu().detach()[idx, 0])\n",
    "plt.axis(\"off\")\n",
    "plt.title(\"Canonicalized \" + str(test_y[idx].numpy()), size = 15)\n",
    "plt.show()"
   ]
  },
  {
   "cell_type": "code",
   "execution_count": 2,
   "id": "eda328cd",
   "metadata": {
    "tags": []
   },
   "outputs": [],
   "source": [
    "import torch\n",
    "from kornia.geometry.transform import rotate\n",
    "\n",
    "# Example tensor\n",
    "x = torch.randn(1, 3, 224, 224)\n",
    "\n",
    "# Perform rotation\n",
    "try:\n",
    "    rotated_x = rotate(x, angle=torch.tensor(30.0), padding_mode='border')\n",
    "except RuntimeError as e:\n",
    "    print(f\"Rotation failed: {e}\")\n"
   ]
  },
  {
   "cell_type": "code",
   "execution_count": 3,
   "id": "91447b5b-794d-4273-ac16-8e215bfe6716",
   "metadata": {
    "tags": []
   },
   "outputs": [
    {
     "data": {
      "text/plain": [
       "tensor([[[[-0.7827, -0.5687, -0.8385,  ...,  0.3480,  0.4415, -0.0859],\n",
       "          [ 0.0068, -1.2060, -0.1022,  ...,  0.0555, -0.3788, -0.0477],\n",
       "          [-0.3750, -0.5711, -0.7395,  ..., -0.1364,  0.1948,  0.5824],\n",
       "          ...,\n",
       "          [ 0.0328,  0.2932, -1.3124,  ...,  0.0595, -1.3622, -1.9780],\n",
       "          [-0.8822, -2.4878, -0.8579,  ...,  0.2749, -0.0982, -2.3809],\n",
       "          [-1.4000,  0.6232,  1.4105,  ...,  0.5881,  0.1172, -0.9894]],\n",
       "\n",
       "         [[ 1.4551,  1.2957,  0.7791,  ...,  0.0412, -0.0299, -0.1304],\n",
       "          [ 1.7843,  1.2543,  1.3260,  ..., -0.1034, -0.1128,  0.6276],\n",
       "          [ 0.8486,  1.5433,  1.2846,  ...,  0.4292,  1.1696,  0.3171],\n",
       "          ...,\n",
       "          [-1.8598, -1.7633, -0.8729,  ..., -0.9310, -1.7841, -1.1086],\n",
       "          [-1.1114, -0.2210,  0.1071,  ...,  0.0064, -1.6172, -1.8378],\n",
       "          [ 0.0375,  0.2972, -0.1382,  ...,  0.5550, -0.6798, -1.7645]],\n",
       "\n",
       "         [[-0.6020, -0.8262, -0.6856,  ...,  0.5051,  0.3056,  0.4946],\n",
       "          [-0.7494, -0.5409, -1.0350,  ...,  0.4439,  0.4741, -0.8021],\n",
       "          [-0.3563, -0.6415, -0.7498,  ..., -0.4601, -1.7364, -0.4623],\n",
       "          ...,\n",
       "          [-0.3752, -0.2390,  0.2269,  ..., -0.2721, -0.2218, -0.2064],\n",
       "          [ 0.1021,  0.5680,  0.5329,  ..., -0.3221, -0.2355, -0.2150],\n",
       "          [ 0.5586,  0.4626,  0.0860,  ...,  0.0356, -0.2855, -0.2243]]]])"
      ]
     },
     "execution_count": 3,
     "metadata": {},
     "output_type": "execute_result"
    }
   ],
   "source": [
    "rotated_x"
   ]
  },
  {
   "cell_type": "code",
   "execution_count": null,
   "id": "9a3cbef7-c74f-49ea-8f7c-3da9932998b7",
   "metadata": {},
   "outputs": [],
   "source": []
  }
 ],
 "metadata": {
  "kernelspec": {
   "display_name": "conda_medsam",
   "language": "python",
   "name": "conda_medsam"
  },
  "language_info": {
   "codemirror_mode": {
    "name": "ipython",
    "version": 3
   },
   "file_extension": ".py",
   "mimetype": "text/x-python",
   "name": "python",
   "nbconvert_exporter": "python",
   "pygments_lexer": "ipython3",
   "version": "3.10.14"
  },
  "vscode": {
   "interpreter": {
    "hash": "4854efcb2d9245c65946c9aa84c4d95a73bc8d4467b7e26380e6183927bd8d2a"
   }
  }
 },
 "nbformat": 4,
 "nbformat_minor": 5
}
