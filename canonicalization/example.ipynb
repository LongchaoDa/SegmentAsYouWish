{
 "cells": [
  {
   "cell_type": "code",
   "execution_count": 1,
   "id": "322d6430-8a42-47bb-8c7c-45d03697ec18",
   "metadata": {},
   "outputs": [],
   "source": [
    "# Need to install escnn first\n",
    "# !pip install escnn\n",
    "# !pip install omegaconf"
   ]
  },
  {
   "cell_type": "code",
   "execution_count": 2,
   "id": "ff89744b-ee9f-4bce-9a81-8da74f41ba94",
   "metadata": {
    "tags": []
   },
   "outputs": [],
   "source": [
    "# import os\n",
    "# # Specify the GPU you want to use, for example, GPU 0\n",
    "# os.environ[\"CUDA_VISIBLE_DEVICES\"] = \"4\"\n",
    "from typing import Tuple\n",
    "import escnn\n",
    "import torch\n",
    "import torchvision\n",
    "from rot_mnist import RotatedMNIST\n",
    "import matplotlib.pyplot as plt\n",
    "import numpy as np\n",
    "import copy\n",
    "import kornia as K\n",
    "from equiv_networks import ESCNNEquivariantNetwork\n",
    "from canonicalization_discrete_group import DiscreteGroupImageCanonicalization\n",
    "from utils import train_classifer, eval_acc\n",
    "device = torch.device(\"cuda\" if torch.cuda.is_available() else \"cpu\")"
   ]
  },
  {
   "cell_type": "markdown",
   "id": "d6c174a9-2445-4415-99b4-7c298a923cbc",
   "metadata": {},
   "source": [
    "## 1. Create a CNN prediction network and train it on the MNIST dataset"
   ]
  },
  {
   "cell_type": "code",
   "execution_count": 3,
   "id": "a149b573-a827-4428-9e2f-6a9697199709",
   "metadata": {
    "tags": []
   },
   "outputs": [],
   "source": [
    "class CNN(torch.nn.Module):\n",
    "    def __init__(self, in_channels, out_channels, kernel_size, hidden_dim):\n",
    "        super().__init__()\n",
    "        self.model = torch.nn.Sequential(\n",
    "            torch.nn.Conv2d(in_channels, hidden_dim, kernel_size),\n",
    "            torch.nn.ReLU(),\n",
    "            torch.nn.Conv2d(hidden_dim, hidden_dim, kernel_size),\n",
    "            torch.nn.ReLU(),\n",
    "            torch.nn.Conv2d(hidden_dim, out_channels, kernel_size),\n",
    "        )\n",
    "\n",
    "    def forward(self, x):\n",
    "        out = self.model(x)\n",
    "        # Apply average pooling over spatial dimensions.\n",
    "        return out.mean((2,3))\n",
    "\n",
    "prediction_network = CNN(in_channels = 1, out_channels = 10, kernel_size = 5, hidden_dim = 64).to(device)\n",
    "\n",
    "# Define transformations\n",
    "transform = torchvision.transforms.Compose([\n",
    "    torchvision.transforms.ToTensor(),\n",
    "    torchvision.transforms.Normalize((0.1307,), (0.3081,))\n",
    "])\n",
    "\n",
    "# Load the MNIST dataset\n",
    "mnist_train_dataset = torchvision.datasets.MNIST(root='./data', train=True, transform=transform, download=True)\n",
    "mnist_train_loader = torch.utils.data.DataLoader(dataset=mnist_train_dataset, batch_size=512, shuffle=True)\n",
    "mnist_valid_dataset = torchvision.datasets.MNIST(root='./data', train=True, transform=transform, download=True)\n",
    "mnist_valid_loader = torch.utils.data.DataLoader(dataset=mnist_valid_dataset, batch_size=512, shuffle=False)\n",
    "\n",
    "optimizer = torch.optim.Adam(prediction_network.parameters(), 0.001) \n",
    "train_classifer(prediction_network, mnist_train_loader, mnist_valid_loader, num_epoch = 50, optimizer = optimizer)\n",
    "# torch.save(prediction_network, \"prediction_network.pth\")\n",
    "# prediction_network = torch.load(\"prediction_network.pth\")"
   ]
  },
  {
   "cell_type": "markdown",
   "id": "a2037bdb-8665-48c8-a117-0945ceb96d0d",
   "metadata": {},
   "source": [
    "## 2. Achieve Equivariance with Canonicalization "
   ]
  },
  {
   "cell_type": "markdown",
   "id": "681e592f-144d-4854-a6ea-e8d73392eb93",
   "metadata": {},
   "source": [
    "### 2.1 Canonicalization Network: $\\phi(x) = c(x)\\;f(c^{-1}(x)\\;x)$ where $f$ is the prediction network and $c$ is the equivariant network. "
   ]
  },
  {
   "cell_type": "code",
   "execution_count": 4,
   "id": "876a5f9c-1a86-400e-8854-733c6fa38632",
   "metadata": {
    "tags": []
   },
   "outputs": [],
   "source": [
    "# design canonicalization hyperparams class\n",
    "class CanonicalizationHyperparams:\n",
    "    def __init__(self):\n",
    "        self.network_type = \"escnn\" # group equivariant canonicalization\n",
    "        self.resize_shape = 28 # resize shape for the canonicalization network\n",
    "        self.network_hyperparams = {\n",
    "            \"kernel_size\": 5, # Kernel size for the canonization network\n",
    "            \"hidden_dim\": 32,\n",
    "            \"out_channels\": 32, # Number of output channels for the canonization network\n",
    "            \"num_layers\": 5, # Number of layers in the canonization network\n",
    "            \"group_type\": \"roto-reflection\",#\"roto-reflection\", #rotation\", # Type of group for the canonization network\n",
    "            \"group_order\": 4, # Number of rotations for the canonization network \n",
    "            # \"num_rotations\": 4\n",
    "        }\n",
    "        self.beta = 1.0 \n",
    "        self.input_crop_ratio = 1.0\n",
    "        self.gradient_trick = \"gumbel_softmax\"#\"straight_through\"\n",
    "        \n",
    "canonicalization_hyperparams = CanonicalizationHyperparams()\n",
    "image_shape = (1, 28, 28)\n",
    "\n",
    "# Equivariant Network c(x)\n",
    "canonicalization_network = ESCNNEquivariantNetwork(inp_channels = image_shape[0], **canonicalization_hyperparams.network_hyperparams).to(device)\n",
    "canonicalizer = DiscreteGroupImageCanonicalization(canonicalization_network, canonicalization_hyperparams, image_shape).to(device)"
   ]
  },
  {
   "cell_type": "markdown",
   "id": "c698838d-b326-4235-80f8-9967dd2eeb35",
   "metadata": {},
   "source": [
    "### 2.2 Train the canonicalization network on the ***rotation*** MNIST datasets"
   ]
  },
  {
   "cell_type": "code",
   "execution_count": 5,
   "id": "bdcd9715-dbac-46fa-b889-9b742cc61bea",
   "metadata": {
    "tags": []
   },
   "outputs": [
    {
     "name": "stdout",
     "output_type": "stream",
     "text": [
      "Accuracies of the Prediction Network on the Original and Rotated MNIST Test Sets\n"
     ]
    },
    {
     "data": {
      "text/plain": [
       "(0.98873, 0.33418)"
      ]
     },
     "execution_count": 5,
     "metadata": {},
     "output_type": "execute_result"
    }
   ],
   "source": [
    "# Load the Rotation MNIST dataset\n",
    "rot_mnist_train_dataset = RotatedMNIST(root=\"./data\", partition=\"train\", augment=\"None\")\n",
    "rot_mnist_train_loader = torch.utils.data.DataLoader(rot_mnist_train_dataset, batch_size=512, shuffle=True, num_workers=4)\n",
    "rot_mnist_valid_dataset = RotatedMNIST(root=\"./data\", partition=\"valid\", augment=\"None\")\n",
    "rot_mnist_valid_loader = torch.utils.data.DataLoader(rot_mnist_valid_dataset, batch_size=512, shuffle=False, num_workers=4)\n",
    "\n",
    "# the prediction network perform poorly on the rotated mnist test set.\n",
    "print(\"Accuracies of the Prediction Network on the Original and Rotated MNIST Test Sets\")\n",
    "eval_acc(prediction_network, mnist_valid_loader), eval_acc(prediction_network, rot_mnist_valid_loader)"
   ]
  },
  {
   "cell_type": "code",
   "execution_count": null,
   "id": "60cd6677-8a6c-4fcb-966d-6e602d2333af",
   "metadata": {
    "tags": []
   },
   "outputs": [
    {
     "name": "stdout",
     "output_type": "stream",
     "text": [
      "Epoch 1 | Train Accuracy: 0.632 | Train Loss: 2.922 \n",
      "Epoch 11 | Train Accuracy: 0.870 | Train Loss: 1.488 \n",
      "Epoch 21 | Train Accuracy: 0.891 | Train Loss: 1.351 \n",
      "Epoch 31 | Train Accuracy: 0.898 | Train Loss: 1.292 \n",
      "Epoch 41 | Train Accuracy: 0.905 | Train Loss: 1.255 \n",
      "Epoch 51 | Train Accuracy: 0.907 | Train Loss: 1.238 \n",
      "Epoch 61 | Train Accuracy: 0.910 | Train Loss: 1.216 \n",
      "Epoch 81 | Train Accuracy: 0.913 | Train Loss: 1.201 \n",
      "Epoch 91 | Train Accuracy: 0.913 | Train Loss: 1.199 \n",
      "Accuracy of Prediction Network alone on Rotated Test Set: 0.7809\n",
      "Accuracy of Canonicalizer + Prediction Network on Rotated Test Set: 0.8131\n"
     ]
    }
   ],
   "source": [
    "# train canonicalization_network and prediction_network together 0.0001 0.01\n",
    "# the goal is to make the canonicalization network to produce canonical forms that align with the prediction network.\n",
    "\n",
    "canonicalization_network = ESCNNEquivariantNetwork(inp_channels = image_shape[0], **canonicalization_hyperparams.network_hyperparams).to(device)\n",
    "canonicalizer = DiscreteGroupImageCanonicalization(canonicalization_network, canonicalization_hyperparams, image_shape).to(device)\n",
    "can_optimizer = torch.optim.AdamW([\n",
    "        {'params': prediction_network.parameters(), 'lr': 1e-3},\n",
    "        {'params': canonicalizer.parameters(), 'lr': 1e-3},\n",
    "    ])\n",
    "\n",
    "best_valid_acc = 0\n",
    "loss_fun = torch.nn.CrossEntropyLoss()\n",
    "scheduler = torch.optim.lr_scheduler.StepLR(can_optimizer, step_size=1, gamma=0.95)\n",
    "for epoch in range(100):\n",
    "    train_loss, train_acc, count = [], 0, 0\n",
    "    for x, y in rot_mnist_train_loader:\n",
    "        can_optimizer.zero_grad()\n",
    "        x = x.to(device)\n",
    "        y = y.to(device)\n",
    "        canonicalized_x = canonicalizer(x)\n",
    "        pred = prediction_network(canonicalized_x)\n",
    "        loss = loss_fun(pred, y) \n",
    "        loss += canonicalizer.get_prior_regularization_loss()\n",
    "        train_loss.append(loss.item())\n",
    "        train_acc += (y == pred.argmax(dim=-1)).sum().cpu().data.numpy()\n",
    "        count += y.shape[0]\n",
    "        loss.backward()\n",
    "        can_optimizer.step()\n",
    "    \n",
    "    for x, y in mnist_train_loader:\n",
    "        can_optimizer.zero_grad()\n",
    "        x = x.to(device)\n",
    "        y = y.to(device)\n",
    "        canonicalized_x = canonicalizer(x)\n",
    "        pred = prediction_network(canonicalized_x)\n",
    "        loss = loss_fun(pred, y) \n",
    "        loss += canonicalizer.get_prior_regularization_loss()\n",
    "        train_loss.append(loss.item())\n",
    "        train_acc += (y == pred.argmax(dim=-1)).sum().cpu().data.numpy()\n",
    "        count += y.shape[0]\n",
    "        loss.backward()\n",
    "        can_optimizer.step()\n",
    "\n",
    "    train_acc = train_acc/count\n",
    "    scheduler.step()\n",
    "    if epoch % 10 == 0:\n",
    "        print(\"Epoch {} | Train Accuracy: {:0.3f} | Train Loss: {:0.3f} \".format(epoch+1, train_acc, np.mean(train_loss)))\n",
    "        \n",
    "print(\"Accuracy of Prediction Network alone on Rotated Test Set: {}\".format(eval_acc(prediction_network, rot_mnist_valid_loader)))\n",
    "print(\"Accuracy of Canonicalizer + Prediction Network on Rotated Test Set: {}\".format(eval_acc(torch.nn.Sequential(canonicalizer, prediction_network), rot_mnist_valid_loader)))      "
   ]
  },
  {
   "cell_type": "markdown",
   "id": "1eb082de-5340-4615-905b-a3983e3fa0f8",
   "metadata": {},
   "source": [
    "## Visualization"
   ]
  },
  {
   "cell_type": "code",
   "execution_count": 7,
   "id": "3a1d94d9-144d-4344-8dd5-41f99cd79136",
   "metadata": {
    "tags": []
   },
   "outputs": [],
   "source": [
    "test_x, test_y = next(iter(rot_mnist_train_loader))"
   ]
  },
  {
   "cell_type": "code",
   "execution_count": 11,
   "id": "942cad81-1e80-45c3-9ff4-e9cab6c82456",
   "metadata": {
    "tags": []
   },
   "outputs": [
    {
     "data": {
      "image/png": "[encoded data removed]",
      "text/plain": [
       "<Figure size 800x400 with 2 Axes>"
      ]
     },
     "metadata": {},
     "output_type": "display_data"
    }
   ],
   "source": [
    "idx = 2\n",
    "plt.subplots(nrows=1, ncols=2, figsize=(8, 4))\n",
    "plt.subplot(1, 2, 1)\n",
    "plt.imshow(test_x[idx, 0])\n",
    "plt.title(\"Rotated \" + str(test_y[idx].numpy()), size = 15)\n",
    "plt.axis(\"off\")\n",
    "plt.subplot(1, 2, 2)\n",
    "plt.imshow(canonicalizer(test_x.to(device)).cpu().detach()[idx, 0])\n",
    "plt.axis(\"off\")\n",
    "plt.title(\"Canonicalized \" + str(test_y[idx].numpy()), size = 15)\n",
    "plt.show()"
   ]
  },
  {
   "cell_type": "code",
   "execution_count": null,
   "id": "c4ef97e0-ea20-408f-9779-3b2bb7f86347",
   "metadata": {},
   "outputs": [],
   "source": []
  }
 ],
 "metadata": {
  "kernelspec": {
   "display_name": "conda_pytorch_p310",
   "language": "python",
   "name": "conda_pytorch_p310"
  },
  "language_info": {
   "codemirror_mode": {
    "name": "ipython",
    "version": 3
   },
   "file_extension": ".py",
   "mimetype": "text/x-python",
   "name": "python",
   "nbconvert_exporter": "python",
   "pygments_lexer": "ipython3",
   "version": "3.10.14"
  }
 },
 "nbformat": 4,
 "nbformat_minor": 5
}
